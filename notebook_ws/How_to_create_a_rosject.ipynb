{
 "cells": [
  {
   "cell_type": "markdown",
   "metadata": {},
   "source": [
    "![Logo](images/rosdevday2023_logo.png)"
   ]
  },
  {
   "cell_type": "markdown",
   "metadata": {},
   "source": [
    "# Build and use a Mobile Manipulator with ros2_control #"
   ]
  },
  {
   "cell_type": "markdown",
   "metadata": {},
   "source": [
    "[ros2_control](https://control.ros.org) is a hardware-agnostic control framework for abstracting hardware and low-level control for 3rd party solutions like `MoveIt2` and `Nav2` systems.\n",
    "\n",
    "The rosject will start with a quick recap of what makes up a URDF and the ros2_control URDF tag. \n",
    "We’ll take a robot mobile base and demonstrate setting up ros2_control simulation for it in the URDF. \n",
    "\n",
    "Once done, a robot arm will be added to the mobile base, turning it into a mobile manipulator robot. \n",
    "The existing ros2_control configuration will be adjusted to accommodate for the new robot parts. \n",
    "Finally, the rosject will conclude with a demonstration in Gazebo moving the robot using some off-the-shelf ros2_control controllers.\n",
    "\n",
    "Attendees will learn\n",
    "* how to prototype a mobile manipulator with URDF and `ros2_control`\n",
    "* how to configure a gazebo simulation with a given URDF and `ros2_control`"
   ]
  },
  {
   "cell_type": "markdown",
   "metadata": {},
   "source": [
    "This project is using a simulated [TIAGo robot from PAL Robotics](https://pal-robotics.com/robots/tiago/) for the demonstration. \n",
    "\n",
    "We'll go from a mobile base to a full robot!"
   ]
  },
  {
   "cell_type": "markdown",
   "metadata": {},
   "source": [
    "![TIAGo by PAL Robotics](images/tiago_parts.png)"
   ]
  },
  {
   "cell_type": "markdown",
   "metadata": {},
   "source": [
    "## WHO AM I"
   ]
  },
  {
   "cell_type": "markdown",
   "metadata": {},
   "source": [
    "Bence Magyar, PhD in Robotics, Principal Software Engineer at FiveAI / BoschUK\n",
    "\n",
    "Maintainer of ros_control and ros2_control since 2015.\n",
    "ROS contributor since 2012.\n",
    "\n",
    "<img src=\"images/bence.jpeg\" width=\"30%\">\n",
    "\n"
   ]
  },
  {
   "cell_type": "markdown",
   "metadata": {},
   "source": [
    "# URDF crashcourse\n",
    "\n",
    "Unified Robotics Description Format (URDF), is an XML specification used in academia and industry to model multibody systems such as robotic manipulator arms for manufacturing assembly lines and animatronic robots for amusement parks. URDF is especially popular with users of Robotics Operating System, ROS.\n",
    "\n",
    "<img src=\"images/tiago-tf.png\" width=\"100%\">\n"
   ]
  },
  {
   "cell_type": "markdown",
   "metadata": {},
   "source": [
    "# The URDF of a differential wheeled robot\n",
    "\n",
    "Let's open the URDF for the TIAGo-Base and examine the structure.\n",
    "\n",
    "Go to the code editor and find `tiago_robot/tiago_description/robots/tiago_base_unrolled.urdf`\n",
    "\n",
    "#### Let's take a look"
   ]
  },
  {
   "cell_type": "code",
   "execution_count": null,
   "metadata": {},
   "outputs": [],
   "source": [
    "source ~/ros2_ws/install/setup.bash\n",
    "alias s=\"source ~/ros2_ws/install/setup.bash\"\n",
    "ros2 launch tiago_description show.launch.py"
   ]
  },
  {
   "cell_type": "markdown",
   "metadata": {},
   "source": [
    "# ros2_control crashcourse\n",
    "\n",
    "ros2_control is a hardware-agnostic control framework focusing on the modular composition of control systems for robots, sharing of controllers as well as real-time performance. The framework provides controller-lifecycle and hardware management on top of abstractions of real or virtual hardware interfaces.\n",
    "\n",
    "<img src=\"images/ros2_control_overview.png\" width=\"100%\">\n",
    "\n",
    "\n",
    "<img src=\"images/components_architecture.png\" width=\"80%\">\n"
   ]
  },
  {
   "cell_type": "markdown",
   "metadata": {},
   "source": [
    "# The ros2_control tag for URDF\n",
    "\n",
    "Covers both simulation and real hardware components.\n",
    "Example:\n",
    "```xml\n",
    "<ros2_control name=\"ros2_control_tiago_system\" type=\"system\">\n",
    "    <hardware>\n",
    "        <plugin>gazebo_ros2_control/GazeboSystem</plugin>\n",
    "    </hardware>\n",
    "    <joint name=\"wheel_right_joint\">\n",
    "        <command_interface name=\"velocity\">\n",
    "            <param name=\"min\">-1</param>\n",
    "            <param name=\"max\">1</param>\n",
    "        </command_interface>\n",
    "        <state_interface name=\"position\"/>\n",
    "    </joint>\n",
    "    <transmission name=\"wheel_right_trans\">\n",
    "        <plugin>transmission_interface/SimpleTransmission</plugin>\n",
    "        <actuator name=\"wheel_right_actuator\" role=\"actuator1\"/>\n",
    "        <joint name=\"wheel_right_joint\" role=\"joint1\">\n",
    "            <mechanical_reduction>1.0</mechanical_reduction>\n",
    "        </joint>\n",
    "    </transmission>\n",
    "    <joint name=\"wheel_left_joint\">\n",
    "        <command_interface name=\"velocity\">\n",
    "            <param name=\"min\">-1</param>\n",
    "            <param name=\"max\">1</param>\n",
    "        </command_interface>\n",
    "        <state_interface name=\"position\"/>\n",
    "    </joint>\n",
    "    <transmission name=\"wheel_left_trans\">\n",
    "        <plugin>transmission_interface/SimpleTransmission</plugin>\n",
    "        <actuator name=\"wheel_left_actuator\" role=\"actuator1\"/>\n",
    "        <joint name=\"wheel_left_joint\" role=\"joint1\">\n",
    "            <mechanical_reduction>1.0</mechanical_reduction>\n",
    "        </joint>\n",
    "    </transmission>\n",
    "    <sensor name=\"base_imu_sensor\">\n",
    "        <state_interface name=\"orientation.x\"/>\n",
    "        <state_interface name=\"orientation.y\"/>\n",
    "        <state_interface name=\"orientation.z\"/>\n",
    "        <state_interface name=\"orientation.w\"/>\n",
    "        <state_interface name=\"angular_velocity.x\"/>\n",
    "        <state_interface name=\"angular_velocity.y\"/>\n",
    "        <state_interface name=\"angular_velocity.z\"/>\n",
    "        <state_interface name=\"linear_acceleration.x\"/>\n",
    "        <state_interface name=\"linear_acceleration.y\"/>\n",
    "        <state_interface name=\"linear_acceleration.z\"/>\n",
    "    </sensor>\n",
    "</ros2_control>\n",
    "```"
   ]
  },
  {
   "cell_type": "markdown",
   "metadata": {},
   "source": [
    "# Launch the simultation and examine the system"
   ]
  },
  {
   "cell_type": "code",
   "execution_count": null,
   "metadata": {},
   "outputs": [],
   "source": [
    "source ~/ros2_ws/install/setup.bash\n",
    "ros2 launch tiago_gazebo tiago_gazebo.launch.py "
   ]
  },
  {
   "cell_type": "markdown",
   "metadata": {},
   "source": [
    "In a different terminal, let's check the hardware drivers:"
   ]
  },
  {
   "cell_type": "code",
   "execution_count": null,
   "metadata": {},
   "outputs": [],
   "source": [
    "source ~/ros2_ws/install/setup.bash\n",
    "ros2 control list_hardware_components"
   ]
  },
  {
   "cell_type": "markdown",
   "metadata": {},
   "source": [
    "```\n",
    "Hardware Component 0\n",
    "\tname: ros2_control_tiago_system\n",
    "\ttype: \n",
    "\tplugin name: plugin name missing!\n",
    "\tstate: id=3 label=active\n",
    "\tcommand interfaces\n",
    "\t\twheel_right_joint/velocity [available] [unclaimed]\n",
    "\t\twheel_left_joint/velocity [available] [unclaimed]\n",
    "```\n",
    "\n",
    "Let's check the available controllers:"
   ]
  },
  {
   "cell_type": "code",
   "execution_count": null,
   "metadata": {},
   "outputs": [],
   "source": [
    "source ~/ros2_ws/install/setup.bash\n",
    "ros2 control list_controllers"
   ]
  },
  {
   "cell_type": "markdown",
   "metadata": {},
   "source": [
    "```\n",
    "joint_state_broadcaster[joint_state_broadcaster/JointStateBroadcaster] active\n",
    "mobile_base_controller[diff_drive_controller/DiffDriveController] unconfigured\n",
    "```\n",
    "\n",
    "Note that the `mobile_base_controller` is launched (see `mobile_base_controller.launch.py`), however it errors out due to not having the right configuration.\n",
    "\n",
    "(Highlighted here for posterity)\n",
    "```\n",
    "[gzserver-1] [ERROR] [1686512444.304216553] [mobile_base_controller]: Wheel names parameters are empty!\n",
    "[gzserver-1] [WARN] [1686512444.305330650] []: Error occurred while doing error handling.\n",
    "[gzserver-1] [ERROR] [1686512444.305499086] [controller_manager]: After configuring, controller'mobile_base_controller' is in state 'unconfigured' , expected inactive.\n",
    "```\n",
    "\n",
    "Let's fix that!\n",
    "\n",
    "\n",
    "Open `mobile_base_controller.yaml` and add these lines:\n",
    "\n",
    "```\n",
    "    use_stamped_vel: False\n",
    "    left_wheel_names  : [???]\n",
    "    right_wheel_names : [???]\n",
    "\n",
    "    wheel_radius: 0.0985\n",
    "    wheel_separation: 0.4044\n",
    "\n",
    "    wheel_separation_multiplier: 1.0\n",
    "    left_wheel_radius_multiplier: 1.0\n",
    "    right_wheel_radius_multiplier: 1.0\n",
    "```\n",
    "Mystery: what goes into the values marked with `???`\n",
    "\n",
    "Solved? Let's run it all again."
   ]
  },
  {
   "cell_type": "code",
   "execution_count": null,
   "metadata": {},
   "outputs": [],
   "source": [
    "source ~/ros2_ws/install/setup.bash\n",
    "ros2 launch tiago_gazebo tiago_gazebo.launch.py "
   ]
  },
  {
   "cell_type": "markdown",
   "metadata": {},
   "source": [
    "And as before, let's check the hardware drivers:"
   ]
  },
  {
   "cell_type": "code",
   "execution_count": null,
   "metadata": {},
   "outputs": [],
   "source": [
    "source ~/ros2_ws/install/setup.bash\n",
    "ros2 control list_hardware_components"
   ]
  },
  {
   "cell_type": "markdown",
   "metadata": {},
   "source": [
    "```\n",
    "Hardware Component 0\n",
    "\tname: ros2_control_tiago_system\n",
    "\ttype: \n",
    "\tplugin name: plugin name missing!\n",
    "\tstate: id=3 label=active\n",
    "\tcommand interfaces\n",
    "\t\twheel_right_joint/velocity [available] [claimed]\n",
    "\t\twheel_left_joint/velocity [available] [claimed]\n",
    "```\n",
    "\n",
    "Note that the wheel joint command interfaces are now claimed, something is happening!\n",
    "Let's list the available interfaces controllers can use:"
   ]
  },
  {
   "cell_type": "code",
   "execution_count": null,
   "metadata": {},
   "outputs": [],
   "source": [
    "source ~/ros2_ws/install/setup.bash\n",
    "ros2 control list_hardware_interfaces"
   ]
  },
  {
   "cell_type": "markdown",
   "metadata": {},
   "source": [
    "\n",
    "```\n",
    "command interfaces\n",
    "\twheel_left_joint/velocity [available] [claimed]\n",
    "\twheel_right_joint/velocity [available] [claimed]\n",
    "state interfaces\n",
    "\tbase_imu_sensor/angular_velocity.x\n",
    "\tbase_imu_sensor/angular_velocity.y\n",
    "\tbase_imu_sensor/angular_velocity.z\n",
    "\tbase_imu_sensor/linear_acceleration.x\n",
    "\tbase_imu_sensor/linear_acceleration.y\n",
    "\tbase_imu_sensor/linear_acceleration.z\n",
    "\tbase_imu_sensor/orientation.w\n",
    "\tbase_imu_sensor/orientation.x\n",
    "\tbase_imu_sensor/orientation.y\n",
    "\tbase_imu_sensor/orientation.z\n",
    "\twheel_left_joint/position\n",
    "\twheel_right_joint/position\n",
    "```\n",
    "\n",
    "Listing controllers again should yield an active base controller:\n"
   ]
  },
  {
   "cell_type": "code",
   "execution_count": null,
   "metadata": {},
   "outputs": [],
   "source": [
    "source ~/ros2_ws/install/setup.bash\n",
    "ros2 control list_controllers"
   ]
  },
  {
   "cell_type": "markdown",
   "metadata": {},
   "source": [
    "```\n",
    "joint_state_broadcaster[joint_state_broadcaster/JointStateBroadcaster] active      \n",
    "mobile_base_controller[diff_drive_controller/DiffDriveController] active    \n",
    "```\n",
    "\n",
    "Let's check a controller, they are ROS Nodes after all!"
   ]
  },
  {
   "cell_type": "code",
   "execution_count": null,
   "metadata": {},
   "outputs": [],
   "source": [
    "source ~/ros2_ws/install/setup.bash\n",
    "ros2 node info /mobile_base_controller "
   ]
  },
  {
   "cell_type": "markdown",
   "metadata": {},
   "source": [
    "```\n",
    "/mobile_base_controller\n",
    "  Subscribers:\n",
    "    /clock: rosgraph_msgs/msg/Clock\n",
    "    /mobile_base_controller/cmd_vel_unstamped: geometry_msgs/msg/Twist\n",
    "    /parameter_events: rcl_interfaces/msg/ParameterEvent\n",
    "  Publishers:\n",
    "    /mobile_base_controller/odom: nav_msgs/msg/Odometry\n",
    "    /mobile_base_controller/transition_event: lifecycle_msgs/msg/TransitionEvent\n",
    "    /parameter_events: rcl_interfaces/msg/ParameterEvent\n",
    "    /rosout: rcl_interfaces/msg/Log\n",
    "    /tf: tf2_msgs/msg/TFMessage\n",
    "  Service Servers:\n",
    "    /mobile_base_controller/describe_parameters: rcl_interfaces/srv/DescribeParameters\n",
    "    /mobile_base_controller/get_parameter_types: rcl_interfaces/srv/GetParameterTypes\n",
    "    /mobile_base_controller/get_parameters: rcl_interfaces/srv/GetParameters\n",
    "    /mobile_base_controller/list_parameters: rcl_interfaces/srv/ListParameters\n",
    "    /mobile_base_controller/set_parameters: rcl_interfaces/srv/SetParameters\n",
    "    /mobile_base_controller/set_parameters_atomically: rcl_interfaces/srv/SetParametersAtomically\n",
    "  Service Clients:\n",
    "\n",
    "  Action Servers:\n",
    "\n",
    "  Action Clients:\n",
    "```\n",
    "\n",
    "You can make the robot drive in the simulation with this:"
   ]
  },
  {
   "cell_type": "code",
   "execution_count": null,
   "metadata": {},
   "outputs": [],
   "source": [
    "source ~/ros2_ws/install/setup.bash\n",
    "ros2 topic pub /mobile_base_controller/cmd_vel_unstamped geometry_msgs/msg/Twist '{linear: {x: 1}, angular: {z: 0}}' -r10"
   ]
  },
  {
   "cell_type": "markdown",
   "metadata": {},
   "source": [
    "# The URDF of a mobile manipulator\n",
    "\n",
    "Let's open the URDF for the TIAGo-Base and examine the structure.\n",
    "\n",
    "Go to the code editor and find `tiago_robot/tiago_description/robots/tiago_full_unrolled.urdf`\n",
    "\n",
    "```xml\n",
    "<ros2_control name=\"ros2_control_tiago_system\" type=\"system\">\n",
    "    <hardware>\n",
    "        <plugin>gazebo_ros2_control/GazeboSystem</plugin>\n",
    "    </hardware>\n",
    "    <joint name=\"wheel_right_joint\">\n",
    "        <command_interface name=\"velocity\">\n",
    "            <param name=\"min\">-1</param>\n",
    "            <param name=\"max\">1</param>\n",
    "        </command_interface>\n",
    "        <state_interface name=\"position\"/>\n",
    "    </joint>\n",
    "    <transmission name=\"wheel_right_trans\">\n",
    "        <plugin>transmission_interface/SimpleTransmission</plugin>\n",
    "        <actuator name=\"wheel_right_actuator\" role=\"actuator1\"/>\n",
    "        <joint name=\"wheel_right_joint\" role=\"joint1\">\n",
    "            <mechanical_reduction>1.0</mechanical_reduction>\n",
    "        </joint>\n",
    "    </transmission>\n",
    "    <joint name=\"wheel_left_joint\">\n",
    "        <command_interface name=\"velocity\">\n",
    "            <param name=\"min\">-1</param>\n",
    "            <param name=\"max\">1</param>\n",
    "        </command_interface>\n",
    "        <state_interface name=\"position\"/>\n",
    "    </joint>\n",
    "    <transmission name=\"wheel_left_trans\">\n",
    "        <plugin>transmission_interface/SimpleTransmission</plugin>\n",
    "        <actuator name=\"wheel_left_actuator\" role=\"actuator1\"/>\n",
    "        <joint name=\"wheel_left_joint\" role=\"joint1\">\n",
    "            <mechanical_reduction>1.0</mechanical_reduction>\n",
    "        </joint>\n",
    "    </transmission>\n",
    "    <sensor name=\"base_imu_sensor\">\n",
    "        <state_interface name=\"orientation.x\"/>\n",
    "        <state_interface name=\"orientation.y\"/>\n",
    "        <state_interface name=\"orientation.z\"/>\n",
    "        <state_interface name=\"orientation.w\"/>\n",
    "        <state_interface name=\"angular_velocity.x\"/>\n",
    "        <state_interface name=\"angular_velocity.y\"/>\n",
    "        <state_interface name=\"angular_velocity.z\"/>\n",
    "        <state_interface name=\"linear_acceleration.x\"/>\n",
    "        <state_interface name=\"linear_acceleration.y\"/>\n",
    "        <state_interface name=\"linear_acceleration.z\"/>\n",
    "    </sensor>\n",
    "    <joint name=\"torso_lift_joint\">\n",
    "        <command_interface name=\"position\"/>\n",
    "        <state_interface name=\"position\"/>\n",
    "        <state_interface name=\"velocity\"/>\n",
    "        <state_interface name=\"effort\"/>\n",
    "    </joint>\n",
    "    <transmission name=\"torso_lift_trans\">\n",
    "        <plugin>transmission_interface/SimpleTransmission</plugin>\n",
    "        <actuator name=\"torso_lift_actuator\" role=\"actuator1\"/>\n",
    "        <joint name=\"torso_lift_joint\" role=\"joint1\">\n",
    "            <mechanical_reduction>1.0</mechanical_reduction>\n",
    "            <offset>0.0</offset>\n",
    "        </joint>\n",
    "    </transmission>\n",
    "    <joint name=\"head_1_joint\">\n",
    "        <command_interface name=\"position\"/>\n",
    "        <state_interface name=\"position\"/>\n",
    "        <state_interface name=\"velocity\"/>\n",
    "        <state_interface name=\"effort\"/>\n",
    "    </joint>\n",
    "    <transmission name=\"head_1_trans\">\n",
    "        <plugin>transmission_interface/SimpleTransmission</plugin>\n",
    "        <actuator name=\"head_1_actuator\" role=\"actuator1\"/>\n",
    "        <joint name=\"head_1_joint\" role=\"joint1\">\n",
    "            <mechanical_reduction>1.0</mechanical_reduction>\n",
    "            <offset>0.0</offset>\n",
    "        </joint>\n",
    "    </transmission>\n",
    "    <joint name=\"head_2_joint\">\n",
    "        <command_interface name=\"position\"/>\n",
    "        <state_interface name=\"position\"/>\n",
    "        <state_interface name=\"velocity\"/>\n",
    "        <state_interface name=\"effort\"/>\n",
    "    </joint>\n",
    "    <transmission name=\"head_2_trans\">\n",
    "        <plugin>transmission_interface/SimpleTransmission</plugin>\n",
    "        <actuator name=\"head_2_actuator\" role=\"actuator1\"/>\n",
    "        <joint name=\"head_2_joint\" role=\"joint1\">\n",
    "            <mechanical_reduction>1.0</mechanical_reduction>\n",
    "            <offset>0.0</offset>\n",
    "        </joint>\n",
    "    </transmission>\n",
    "    <joint name=\"arm_1_joint\">\n",
    "        <command_interface name=\"position\"/>\n",
    "        <command_interface name=\"velocity\"/>\n",
    "        <command_interface name=\"effort\"/>\n",
    "        <state_interface name=\"position\"/>\n",
    "        <state_interface name=\"velocity\"/>\n",
    "        <state_interface name=\"effort\"/>\n",
    "    </joint>\n",
    "    <transmission name=\"arm_1_trans\">\n",
    "        <plugin>transmission_interface/SimpleTransmission</plugin>\n",
    "        <actuator name=\"arm_1_actuator\" role=\"actuator1\"/>\n",
    "        <joint name=\"arm_1_joint\" role=\"joint1\">\n",
    "            <mechanical_reduction>1.0</mechanical_reduction>\n",
    "            <offset>0.0</offset>\n",
    "        </joint>\n",
    "    </transmission>\n",
    "    <joint name=\"arm_2_joint\">\n",
    "        <command_interface name=\"position\"/>\n",
    "        <command_interface name=\"velocity\"/>\n",
    "        <command_interface name=\"effort\"/>\n",
    "        <state_interface name=\"position\"/>\n",
    "        <state_interface name=\"velocity\"/>\n",
    "        <state_interface name=\"effort\"/>\n",
    "    </joint>\n",
    "    <transmission name=\"arm_2_trans\">\n",
    "        <plugin>transmission_interface/SimpleTransmission</plugin>\n",
    "        <actuator name=\"arm_2_actuator\" role=\"actuator1\"/>\n",
    "        <joint name=\"arm_2_joint\" role=\"joint1\">\n",
    "            <mechanical_reduction>1.0</mechanical_reduction>\n",
    "            <offset>0.0</offset>\n",
    "        </joint>\n",
    "    </transmission>\n",
    "    <joint name=\"arm_3_joint\">\n",
    "        <command_interface name=\"position\"/>\n",
    "        <command_interface name=\"velocity\"/>\n",
    "        <command_interface name=\"effort\"/>\n",
    "        <state_interface name=\"position\"/>\n",
    "        <state_interface name=\"velocity\"/>\n",
    "        <state_interface name=\"effort\"/>\n",
    "    </joint>\n",
    "    <transmission name=\"arm_3_trans\">\n",
    "        <plugin>transmission_interface/SimpleTransmission</plugin>\n",
    "        <actuator name=\"arm_3_actuator\" role=\"actuator1\"/>\n",
    "        <joint name=\"arm_3_joint\" role=\"joint1\">\n",
    "            <mechanical_reduction>1.0</mechanical_reduction>\n",
    "            <offset>0.0</offset>\n",
    "        </joint>\n",
    "    </transmission>\n",
    "    <joint name=\"arm_4_joint\">\n",
    "        <command_interface name=\"position\"/>\n",
    "        <command_interface name=\"velocity\"/>\n",
    "        <command_interface name=\"effort\"/>\n",
    "        <state_interface name=\"position\"/>\n",
    "        <state_interface name=\"velocity\"/>\n",
    "        <state_interface name=\"effort\"/>\n",
    "    </joint>\n",
    "    <transmission name=\"arm_4_trans\">\n",
    "        <plugin>transmission_interface/SimpleTransmission</plugin>\n",
    "        <actuator name=\"arm_4_actuator\" role=\"actuator1\"/>\n",
    "        <joint name=\"arm_4_joint\" role=\"joint1\">\n",
    "            <mechanical_reduction>1.0</mechanical_reduction>\n",
    "            <offset>0.0</offset>\n",
    "        </joint>\n",
    "    </transmission>\n",
    "    <joint name=\"arm_5_joint\">\n",
    "        <command_interface name=\"position\"/>\n",
    "        <command_interface name=\"velocity\"/>\n",
    "        <command_interface name=\"effort\"/>\n",
    "        <state_interface name=\"position\"/>\n",
    "        <state_interface name=\"velocity\"/>\n",
    "        <state_interface name=\"effort\"/>\n",
    "    </joint>\n",
    "    <transmission name=\"arm_5_trans\">\n",
    "        <plugin>transmission_interface/SimpleTransmission</plugin>\n",
    "        <actuator name=\"arm_5_actuator\" role=\"actuator1\"/>\n",
    "        <joint name=\"arm_5_joint\" role=\"joint1\">\n",
    "            <mechanical_reduction>1.0</mechanical_reduction>\n",
    "            <offset>0.0</offset>\n",
    "        </joint>\n",
    "    </transmission>\n",
    "    <joint name=\"arm_6_joint\">\n",
    "        <command_interface name=\"position\"/>\n",
    "        <command_interface name=\"velocity\"/>\n",
    "        <command_interface name=\"effort\"/>\n",
    "        <state_interface name=\"position\"/>\n",
    "        <state_interface name=\"velocity\"/>\n",
    "        <state_interface name=\"effort\"/>\n",
    "    </joint>\n",
    "    <joint name=\"arm_7_joint\">\n",
    "        <command_interface name=\"position\"/>\n",
    "        <command_interface name=\"velocity\"/>\n",
    "        <command_interface name=\"effort\"/>\n",
    "        <state_interface name=\"position\"/>\n",
    "        <state_interface name=\"velocity\"/>\n",
    "        <state_interface name=\"effort\"/>\n",
    "    </joint>\n",
    "    <transmission name=\"arm_6_arm_7_wrist_trans\">\n",
    "        <plugin>transmission_interface/DifferentialTransmission</plugin>\n",
    "        <actuator name=\"arm_6_actuator\" role=\"actuator1\">\n",
    "            <mechanical_reduction>-1.0</mechanical_reduction>\n",
    "        </actuator>\n",
    "        <actuator name=\"arm_7_actuator\" role=\"actuator2\">\n",
    "            <mechanical_reduction>1.0</mechanical_reduction>\n",
    "        </actuator>\n",
    "        <joint name=\"arm_6_joint\" role=\"joint1\">\n",
    "            <mechanical_reduction>1.0</mechanical_reduction>\n",
    "            <offset>0.0</offset>\n",
    "        </joint>\n",
    "        <joint name=\"arm_7_joint\" role=\"joint2\">\n",
    "            <mechanical_reduction>1.0</mechanical_reduction>\n",
    "            <offset>0.0</offset>\n",
    "        </joint>\n",
    "    </transmission>\n",
    "    <joint name=\"gripper_left_finger_joint\">\n",
    "        <command_interface name=\"position\"/>\n",
    "        <state_interface name=\"position\"/>\n",
    "        <state_interface name=\"velocity\"/>\n",
    "        <state_interface name=\"effort\"/>\n",
    "    </joint>\n",
    "    <transmission name=\"gripper_left_finger_trans\">\n",
    "        <plugin>transmission_interface/SimpleTransmission</plugin>\n",
    "        <actuator name=\"gripper_left_finger_actuator\" role=\"actuator1\"/>\n",
    "        <joint name=\"gripper_left_finger_joint\" role=\"joint1\">\n",
    "            <mechanical_reduction>1.0</mechanical_reduction>\n",
    "        </joint>\n",
    "    </transmission>\n",
    "    <joint name=\"gripper_right_finger_joint\">\n",
    "        <command_interface name=\"position\"/>\n",
    "        <state_interface name=\"position\"/>\n",
    "        <state_interface name=\"velocity\"/>\n",
    "        <state_interface name=\"effort\"/>\n",
    "    </joint>\n",
    "    <transmission name=\"gripper_right_finger_trans\">\n",
    "        <plugin>transmission_interface/SimpleTransmission</plugin>\n",
    "        <actuator name=\"gripper_right_finger_actuator\" role=\"actuator1\"/>\n",
    "        <joint name=\"gripper_right_finger_joint\" role=\"joint1\">\n",
    "            <mechanical_reduction>1.0</mechanical_reduction>\n",
    "        </joint>\n",
    "    </transmission>\n",
    "    <sensor name=\"wrist_ft_joint_force_torque\">\n",
    "        <state_interface name=\"force.x\"/>\n",
    "        <state_interface name=\"force.y\"/>\n",
    "        <state_interface name=\"force.z\"/>\n",
    "        <state_interface name=\"torque.x\"/>\n",
    "        <state_interface name=\"torque.y\"/>\n",
    "        <state_interface name=\"torque.z\"/>\n",
    "    </sensor>\n",
    "</ros2_control>\n",
    "```\n",
    "\n",
    "#### Let's take a look\n",
    "\n",
    "Edit the file `tiago_robot/tiago_description/launch/robot_state_publisher.launch.py` at line 50. Comment `tiago_base_unrolled` and comment out `tiago_full_unrolled` to get the full robot.\n",
    "\n",
    "To visualize what we got:"
   ]
  },
  {
   "cell_type": "code",
   "execution_count": null,
   "metadata": {},
   "outputs": [],
   "source": [
    "source ~/ros2_ws/install/setup.bash\n",
    "ros2 launch tiago_description show.launch.py"
   ]
  },
  {
   "cell_type": "markdown",
   "metadata": {},
   "source": [
    "## Launch the simulation and examine the system (again)"
   ]
  },
  {
   "cell_type": "code",
   "execution_count": null,
   "metadata": {},
   "outputs": [],
   "source": [
    "source ~/ros2_ws/install/setup.bash\n",
    "ros2 launch tiago_gazebo tiago_gazebo.launch.py"
   ]
  },
  {
   "cell_type": "markdown",
   "metadata": {},
   "source": [
    "And do a quick examination in a different terminal:"
   ]
  },
  {
   "cell_type": "code",
   "execution_count": null,
   "metadata": {},
   "outputs": [],
   "source": [
    "source ~/ros2_ws/install/setup.bash\n",
    "ros2 control list_hardware_interfaces"
   ]
  },
  {
   "cell_type": "markdown",
   "metadata": {},
   "source": [
    "```\n",
    "command interfaces\n",
    "        arm_1_joint/effort [available] [unclaimed]\n",
    "        arm_1_joint/position [available] [unclaimed]\n",
    "        arm_1_joint/velocity [available] [unclaimed]\n",
    "        arm_2_joint/effort [available] [unclaimed]\n",
    "        arm_2_joint/position [available] [unclaimed]\n",
    "        arm_2_joint/velocity [available] [unclaimed]\n",
    "...\n",
    "        gripper_left_finger_joint/position [available] [unclaimed]\n",
    "        gripper_right_finger_joint/position [available] [unclaimed]\n",
    "        head_1_joint/position [available] [unclaimed]\n",
    "        head_2_joint/position [available] [unclaimed]\n",
    "        torso_lift_joint/position [available] [unclaimed]\n",
    "        wheel_left_joint/velocity [available] [claimed]\n",
    "        wheel_right_joint/velocity [available] [claimed]\n",
    "state interfaces\n",
    "        arm_1_joint/effort\n",
    "        arm_1_joint/position\n",
    "        arm_1_joint/velocity\n",
    "        arm_2_joint/effort\n",
    "        arm_2_joint/position\n",
    "        arm_2_joint/velocity\n",
    "...\n",
    "```"
   ]
  },
  {
   "cell_type": "code",
   "execution_count": null,
   "metadata": {},
   "outputs": [],
   "source": [
    "source ~/ros2_ws/install/setup.bash\n",
    "ros2 control list_controllers"
   ]
  },
  {
   "cell_type": "markdown",
   "metadata": {},
   "source": [
    "```\n",
    "mobile_base_controller[diff_drive_controller/DiffDriveController] active\n",
    "joint_state_broadcaster[joint_state_broadcaster/JointStateBroadcaster] active\n",
    "```\n",
    "\n",
    "Oh no, we need controllers!\n",
    "Let's add them to the launch commands in `tiago_controller_configuration/launch/default_controllers.launch.py`.\n",
    "Open this file and uncomment lines 72-77.\n",
    "\n",
    "\n",
    "Let's relaunch the simulation and check on those controllers!"
   ]
  },
  {
   "cell_type": "code",
   "execution_count": null,
   "metadata": {},
   "outputs": [],
   "source": [
    "source ~/ros2_ws/install/setup.bash\n",
    "ros2 launch tiago_gazebo tiago_gazebo.launch.py"
   ]
  },
  {
   "cell_type": "markdown",
   "metadata": {},
   "source": [
    "...and in a different terminal:"
   ]
  },
  {
   "cell_type": "code",
   "execution_count": null,
   "metadata": {},
   "outputs": [],
   "source": [
    "source ~/ros2_ws/install/setup.bash\n",
    "ros2 control list_controllers"
   ]
  },
  {
   "cell_type": "markdown",
   "metadata": {},
   "source": [
    "```\n",
    "gripper_controller  [joint_trajectory_controller/JointTrajectoryController] active\n",
    "joint_state_broadcaster[joint_state_broadcaster/JointStateBroadcaster] active\n",
    "head_controller     [joint_trajectory_controller/JointTrajectoryController] active\n",
    "mobile_base_controller[diff_drive_controller/DiffDriveController] active\n",
    "arm_controller      [joint_trajectory_controller/JointTrajectoryController] unconfigured\n",
    "torso_controller    [joint_trajectory_controller/JointTrajectoryController] active\n",
    "```\n",
    "\n",
    "### Help! I forgot to add the configuration for the arm controller!\n",
    "\n",
    "We'll need to work on the configuration file of the arm controller in `tiago_robot/tiago_controller_configuration/config/arm_controller.yaml`.\n",
    "\n",
    "So far it looks like this\n",
    "```\n",
    "arm_controller:\n",
    "  ros__parameters:\n",
    "    type: joint_trajectory_controller/JointTrajectoryController\n",
    "```\n",
    "We need to add some more content!\n",
    "```\n",
    "    joints:\n",
    "      - ...\n",
    "    command_interfaces:\n",
    "      - ...\n",
    "    state_interfaces:\n",
    "      - ...\n",
    "```\n",
    "### Let's work out what goes in place of the `...` sections\n",
    "\n",
    "\n",
    "for good measure, let's add some constraints:\n",
    "```\n",
    "    constraints:\n",
    "      goal_time: 0.6\n",
    "      stopped_velocity_tolerance: 5.0\n",
    "      arm_1_joint:\n",
    "        goal: 0.02\n",
    "      arm_2_joint:\n",
    "        goal: 0.02\n",
    "      arm_3_joint:\n",
    "        goal: 0.02\n",
    "      arm_4_joint:\n",
    "        goal: 0.02\n",
    "      arm_5_joint:\n",
    "        goal: 0.02\n",
    "      arm_6_joint:\n",
    "        goal: 0.02\n",
    "      arm_7_joint:\n",
    "        goal: 0.02\n",
    "```\n",
    "\n",
    "Now you are all pros, let's run the following to verify that all controllers are up and running & joint interfaces are claimed, etc:\n"
   ]
  },
  {
   "cell_type": "code",
   "execution_count": null,
   "metadata": {},
   "outputs": [],
   "source": [
    "source ~/ros2_ws/install/setup.bash\n",
    "ros2 launch tiago_gazebo tiago_gazebo.launch.py"
   ]
  },
  {
   "cell_type": "markdown",
   "metadata": {},
   "source": [
    "...and in a different terminal:"
   ]
  },
  {
   "cell_type": "code",
   "execution_count": null,
   "metadata": {},
   "outputs": [],
   "source": [
    "source ~/ros2_ws/install/setup.bash\n",
    "ros2 control list_hardware_components\n",
    "ros2 control list_hardware_interfaces\n",
    "ros2 control list_controllers"
   ]
  },
  {
   "cell_type": "markdown",
   "metadata": {},
   "source": [
    "Let's move the arm this time:"
   ]
  },
  {
   "cell_type": "code",
   "execution_count": null,
   "metadata": {},
   "outputs": [],
   "source": [
    "source ~/ros2_ws/install/setup.bash\n",
    "ros2 topic pub /torso_controller/joint_trajectory trajectory_msgs/msg/JointTrajectory \"{joint_names: [\"torso_lift_joint\"],points: [{positions: [0.5], time_from_start: {sec: 1.0}}] }\""
   ]
  },
  {
   "cell_type": "markdown",
   "metadata": {},
   "source": [
    "Hit enter and watch the robot move in Gazebo!"
   ]
  },
  {
   "cell_type": "markdown",
   "metadata": {},
   "source": [
    "# References\n",
    "\n",
    "* [control.ros.org](https://control.ros.org)\n",
    "* Main repositories [ros2_control](https://github.com/ros-controls/ros2_control), [ros2_controllers](https://github.com/ros-controls/ros2_controllers), [ros2_control_demos](https://github.com/ros-controls/ros2_control_demos)\n",
    "* [ROS wiki URDF page](http://wiki.ros.org/urdf)\n",
    "* [URDF tutorial](https://articulatedrobotics.xyz/ready-for-ros-7-urdf/) by Articulated Robotics"
   ]
  },
  {
   "cell_type": "markdown",
   "metadata": {},
   "source": [
    "![headerlogos](images/header_logos.png)"
   ]
  }
 ],
 "metadata": {
  "kernelspec": {
   "display_name": "Python 3 (ipykernel)",
   "language": "python",
   "name": "python3"
  },
  "language_info": {
   "codemirror_mode": {
    "name": "ipython",
    "version": 3
   },
   "file_extension": ".py",
   "mimetype": "text/x-python",
   "name": "python",
   "nbconvert_exporter": "python",
   "pygments_lexer": "ipython3",
   "version": "3.10.13"
  }
 },
 "nbformat": 4,
 "nbformat_minor": 1
}
